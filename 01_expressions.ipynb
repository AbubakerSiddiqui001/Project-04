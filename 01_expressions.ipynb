{
  "nbformat": 4,
  "nbformat_minor": 0,
  "metadata": {
    "colab": {
      "provenance": [],
      "authorship_tag": "ABX9TyNAwEgGB7aIzUWzj+24Yy3h",
      "include_colab_link": true
    },
    "kernelspec": {
      "name": "python3",
      "display_name": "Python 3"
    },
    "language_info": {
      "name": "python"
    }
  },
  "cells": [
    {
      "cell_type": "markdown",
      "metadata": {
        "id": "view-in-github",
        "colab_type": "text"
      },
      "source": [
        "<a href=\"https://colab.research.google.com/github/AbubakerSiddiqui001/Project-04/blob/main/01_expressions.ipynb\" target=\"_parent\"><img src=\"https://colab.research.google.com/assets/colab-badge.svg\" alt=\"Open In Colab\"/></a>"
      ]
    },
    {
      "cell_type": "code",
      "source": [
        "import random\n",
        "\n",
        "# set values in function\n",
        "def roll_dies():\n",
        "  die1 = random.randint(1,8)\n",
        "  die2 = random.randint(1,8)\n",
        "\n",
        "  # Print\n",
        "  print(f\"Dies: Die 1 is = {die1}, Die 2 is = {die2}\")\n",
        "\n",
        "  # return the values\n",
        "  return die1, die2\n",
        "\n",
        "# use for loop\n",
        "for i in range(3):\n",
        "  role_dies()\n"
      ],
      "metadata": {
        "colab": {
          "base_uri": "https://localhost:8080/"
        },
        "id": "WtIIwfl2le7P",
        "outputId": "d88ad694-3cad-44fd-9a90-f8d9147a580c"
      },
      "execution_count": 21,
      "outputs": [
        {
          "output_type": "stream",
          "name": "stdout",
          "text": [
            "Die value: Die 1 = 2, Die 2 = 5\n",
            "Die value: Die 1 = 7, Die 2 = 4\n",
            "Die value: Die 1 = 7, Die 2 = 3\n"
          ]
        }
      ]
    },
    {
      "cell_type": "code",
      "source": [
        "# 02_e=mc2\n",
        "\n",
        "# speed of light value\n",
        "c = 299792458\n",
        "\n",
        "# used while loop\n",
        "while True:\n",
        "    try:\n",
        "       mass = float(input(\"Enter mass in kilograms (or type 'exit' to quit):\"))\n",
        "       energy = mass * c**2\n",
        "       print(f\"The equivalent energy is: {energy} joules!\")\n",
        "\n",
        "    except ValueError:\n",
        "       break"
      ],
      "metadata": {
        "colab": {
          "base_uri": "https://localhost:8080/"
        },
        "id": "efxOvpVUuENk",
        "outputId": "6f9f8baf-f359-4bd9-8f44-2da94d038635"
      },
      "execution_count": 24,
      "outputs": [
        {
          "name": "stdout",
          "output_type": "stream",
          "text": [
            "Enter mass in kilograms (or type 'exit' to quit):80\n",
            "The equivalent energy is: 7.190041429894541e+18 joules!\n",
            "Enter mass in kilograms (or type 'exit' to quit):55\n",
            "The equivalent energy is: 4.943153483052497e+18 joules!\n",
            "Enter mass in kilograms (or type 'exit' to quit):1\n",
            "The equivalent energy is: 8.987551787368176e+16 joules!\n",
            "Enter mass in kilograms (or type 'exit' to quit):exit\n"
          ]
        }
      ]
    },
    {
      "cell_type": "code",
      "source": [
        "# 03_feet_to_inches\n",
        "\n",
        "fet = float(input(\"Enter length in feet: \"))\n",
        "\n",
        "# multiply unser set into inches\n",
        "inches = fet * 12\n",
        "\n",
        "print(f\"{fet} fet is equal to {inches} inches\")"
      ],
      "metadata": {
        "colab": {
          "base_uri": "https://localhost:8080/"
        },
        "id": "srNtBuzrIpTC",
        "outputId": "206a0101-fc38-464c-ae73-898d9788c1a0"
      },
      "execution_count": 25,
      "outputs": [
        {
          "output_type": "stream",
          "name": "stdout",
          "text": [
            "Enter length in feet: 7.5\n",
            "7.5 fet is equal to 90.0 inches\n"
          ]
        }
      ]
    },
    {
      "cell_type": "code",
      "source": [
        "# 04_pythagorean_theorem\n",
        "\n",
        "import math\n",
        "\n",
        "ab = float(input(\"Enter the length of AB: \"))\n",
        "ac = float(input(\"Enter the length of AC: \"))\n",
        "\n",
        "bc = math.sqrt(ab**2 + ac**2)\n",
        "print(f\"The length of BC (the hypotenuse) is: {bc}\")"
      ],
      "metadata": {
        "colab": {
          "base_uri": "https://localhost:8080/"
        },
        "id": "-e-TThjiKITc",
        "outputId": "e628bab6-1105-4a51-de84-effdc88de025"
      },
      "execution_count": 28,
      "outputs": [
        {
          "output_type": "stream",
          "name": "stdout",
          "text": [
            "Enter the length of AB: 3\n",
            "Enter the length of AC: 4\n",
            "The length of BC (the hypotenuse) is: 5.0\n"
          ]
        }
      ]
    },
    {
      "cell_type": "code",
      "source": [
        "# 05_remainder_division\n",
        "\n",
        "num1 = float(input(\"Please enter an integer to be divided: \"))\n",
        "num2 = float(input(\"Please enter an integer to divide by: \"))\n",
        "\n",
        "# divide\n",
        "quotient = num1 // num2\n",
        "# remainder\n",
        "remainder = num1 % num2\n",
        "\n",
        "print(f\"The result of this division is {quotient} with a remainder of {remainder}\")"
      ],
      "metadata": {
        "colab": {
          "base_uri": "https://localhost:8080/"
        },
        "id": "fR1972sHMQeE",
        "outputId": "e8f1041b-bc51-416a-d1f5-4543b1004a1a"
      },
      "execution_count": 32,
      "outputs": [
        {
          "output_type": "stream",
          "name": "stdout",
          "text": [
            "Please enter an integer to be divided: 9.3\n",
            "Please enter an integer to divide by: 3.4\n",
            "The result of this division is 2.0 with a remainder of 2.500000000000001\n"
          ]
        }
      ]
    },
    {
      "cell_type": "code",
      "source": [
        "# 06_rolldice\n",
        "\n",
        "import random\n",
        "\n",
        "integ = 9\n",
        "\n",
        "die1 = random.randint(3,integ)\n",
        "die2 = random.randint(3,integ)\n",
        "\n",
        "total = die1 + die2\n",
        "\n",
        "print(\"Dice have\", integ , \"sides each.\")\n",
        "print(f\"Fisrt Die: {die1}\")\n",
        "print(f\"Second Die: {die2}\")\n",
        "print(f\"Total of two dice: {total}\")"
      ],
      "metadata": {
        "colab": {
          "base_uri": "https://localhost:8080/"
        },
        "id": "NyK3lZtbOq7J",
        "outputId": "ed1bcc14-2c67-4719-c91a-6426c809d73f"
      },
      "execution_count": 38,
      "outputs": [
        {
          "output_type": "stream",
          "name": "stdout",
          "text": [
            "Dice have 9 sides each.\n",
            "Fisrt Die: 4\n",
            "Second Die: 4\n",
            "Total of two dice: 8\n"
          ]
        }
      ]
    },
    {
      "cell_type": "code",
      "source": [
        "#3 06_seconds_in_year\n",
        "\n",
        "days_in_years = 365\n",
        "hours_in_days = 24\n",
        "minutes_in_hour = 60\n",
        "seconds_in_hour = 60\n",
        "\n",
        "# multiply\n",
        "total_seconds = days_in_years * hours_in_days * minutes_in_hour * seconds_in_hour\n",
        "\n",
        "print(f\"There are {total_seconds} seconds in a year!\")"
      ],
      "metadata": {
        "colab": {
          "base_uri": "https://localhost:8080/"
        },
        "id": "53JdrcTVRuKn",
        "outputId": "6a43ea05-c623-4a7b-b008-cb138bcd3471"
      },
      "execution_count": 40,
      "outputs": [
        {
          "output_type": "stream",
          "name": "stdout",
          "text": [
            "There are 31536000 seconds in a year!\n"
          ]
        }
      ]
    },
    {
      "cell_type": "code",
      "source": [
        "# 07_tiny_mad_lib\n",
        "\n",
        "message:str= \"Panaversity is fun. I learned to program and used Python to make my \"\n",
        "\n",
        "# user input\n",
        "adj = str(input(\"Please type an adjective and press enter: \"))\n",
        "noun = str(input(\"Please type a noun and press enter: \"))\n",
        "verb = str(input(\"Please type a verb and press enter: \"))\n",
        "\n",
        "# Reult\n",
        "print(message ,  adj ,  noun ,  verb)"
      ],
      "metadata": {
        "colab": {
          "base_uri": "https://localhost:8080/"
        },
        "id": "ixmA9xnDTl-G",
        "outputId": "dafea600-5630-41a1-b88b-0f7a7ef02d27"
      },
      "execution_count": 42,
      "outputs": [
        {
          "output_type": "stream",
          "name": "stdout",
          "text": [
            "Please type an adjective and press enter: tiny\n",
            "Please type a noun and press enter: plant\n",
            "Please type a verb and press enter: fly\n",
            "Panaversity is fun. I learned to program and used Python to make my  tiny plant fly\n"
          ]
        }
      ]
    }
  ]
}