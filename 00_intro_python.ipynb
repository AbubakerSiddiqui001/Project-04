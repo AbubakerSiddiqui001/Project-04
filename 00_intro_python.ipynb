{
  "nbformat": 4,
  "nbformat_minor": 0,
  "metadata": {
    "colab": {
      "provenance": [],
      "authorship_tag": "ABX9TyMF9by7pq5MJHQujdrP+37B",
      "include_colab_link": true
    },
    "kernelspec": {
      "name": "python3",
      "display_name": "Python 3"
    },
    "language_info": {
      "name": "python"
    }
  },
  "cells": [
    {
      "cell_type": "markdown",
      "metadata": {
        "id": "view-in-github",
        "colab_type": "text"
      },
      "source": [
        "<a href=\"https://colab.research.google.com/github/AbubakerSiddiqui001/Project-04/blob/main/00_intro_python.ipynb\" target=\"_parent\"><img src=\"https://colab.research.google.com/assets/colab-badge.svg\" alt=\"Open In Colab\"/></a>"
      ]
    },
    {
      "cell_type": "code",
      "execution_count": null,
      "metadata": {
        "id": "jRq4Lk7i3g4e"
      },
      "outputs": [],
      "source": []
    },
    {
      "cell_type": "code",
      "source": [
        "# 2 numbers adds calculator\n",
        "\n",
        "num1 = int(input(\"Enter your first number: \"))\n",
        "\n",
        "num2 = int(input(\"Enter your second number: \"))\n",
        "\n",
        "# Add numbers\n",
        "print (f\" Your Total number is: {num1 + num2}\")"
      ],
      "metadata": {
        "colab": {
          "base_uri": "https://localhost:8080/"
        },
        "id": "WspGBedK3rSs",
        "outputId": "4abc2d66-cd42-4f99-bd09-ddb77a7940c7"
      },
      "execution_count": 3,
      "outputs": [
        {
          "output_type": "stream",
          "name": "stdout",
          "text": [
            "Enter your first number: 100\n",
            "Enter your second number: 200\n",
            " Your Total number is: 300\n"
          ]
        }
      ]
    },
    {
      "cell_type": "code",
      "source": [
        "# 02_agreement_bot\n",
        "\n",
        "question = input(\"What is your favourite animal?\")\n",
        "\n",
        "# Answer in bold\n",
        "bold_animals = f\"\\033[1m{question}\\033[0m\"\n",
        "\n",
        "# User Answer\n",
        "print(f\"My favourite animal is {bold_animals}!\")\n"
      ],
      "metadata": {
        "colab": {
          "base_uri": "https://localhost:8080/"
        },
        "id": "ioC1b4lw50JU",
        "outputId": "f59a50c3-3182-4105-f2e0-221343a7d3ef"
      },
      "execution_count": 11,
      "outputs": [
        {
          "output_type": "stream",
          "name": "stdout",
          "text": [
            "What is your favourite animal?Cow\n",
            "My favourite animal is \u001b[1mCow\u001b[0m!\n"
          ]
        }
      ]
    },
    {
      "cell_type": "code",
      "source": [
        "# 03_fahrenheit_to_celsius\n",
        "\n",
        "# Input\n",
        "fahrenheit = float(input(\"Enter temperature in Fahrenheit: \"))\n",
        "\n",
        "# Celsius calculation\n",
        "celsius = (fahrenheit - 32) * 5.0 / 9.0\n",
        "\n",
        "# Print\n",
        "print(f\"Temperature is: {fahrenheit} F = {celsius} C\")"
      ],
      "metadata": {
        "colab": {
          "base_uri": "https://localhost:8080/"
        },
        "id": "Dw5be_t-9Fxq",
        "outputId": "21045b1f-d126-4780-b1b1-9ab2c8468ac1"
      },
      "execution_count": 24,
      "outputs": [
        {
          "output_type": "stream",
          "name": "stdout",
          "text": [
            "Enter temperature in Fahrenheit: 33\n",
            "Temperature is: 33.0 F = 0.5555555555555556 C\n"
          ]
        }
      ]
    },
    {
      "cell_type": "code",
      "source": [
        "# 04_how_old_are_they\n",
        "\n",
        "# Their age and how old are they\n",
        "Anton = 21\n",
        "beth = Anton + 6\n",
        "Chen = beth + 20\n",
        "Drew = Chen + Anton\n",
        "Ethan = beth\n",
        "\n",
        "# Result\n",
        "print(f\"Anton {Anton} years old\")\n",
        "print(f\"beth {beth} years older than Anton\")\n",
        "print(f\"Chen {Chen} years older than Beth\")\n",
        "print(f\"Drew {Drew} years older than Chen and Anton\")\n",
        "print(f\"Ethan {Ethan} years so Ethan is the same age as Chen\")"
      ],
      "metadata": {
        "colab": {
          "base_uri": "https://localhost:8080/"
        },
        "id": "sY8BkXgzD-te",
        "outputId": "ee53e020-3e13-40c1-d5fa-866a8b4a3b04"
      },
      "execution_count": 26,
      "outputs": [
        {
          "output_type": "stream",
          "name": "stdout",
          "text": [
            "Anton 21 years old\n",
            "beth 27 years older than Anton\n",
            "Chen 47 years older than Beth\n",
            "Drew 68 years older than Chen and Anton\n",
            "Ethan 27 years so Ethan is the same age as Chen\n"
          ]
        }
      ]
    },
    {
      "cell_type": "code",
      "source": [
        "# 05_triangle_perimeter\n",
        "\n",
        "# User Input\n",
        "side1 = float(input(\"What is the length of side 1?\" ))\n",
        "side2 = float(input(\"What is the length of side 2?\" ))\n",
        "side3 = float(input(\"What is the length of side 3?\" ))\n",
        "\n",
        "# Result\n",
        "print(\"The perimeter of the triangle is: \" + str(side1 + side2 + side3))"
      ],
      "metadata": {
        "colab": {
          "base_uri": "https://localhost:8080/"
        },
        "id": "FnrB_miogQVo",
        "outputId": "f217a430-8915-4d32-d76a-e6be153d264f"
      },
      "execution_count": 33,
      "outputs": [
        {
          "output_type": "stream",
          "name": "stdout",
          "text": [
            "What is the length of side 1?10\n",
            "What is the length of side 2?4\n",
            "What is the length of side 3?6\n",
            "The perimeter of the triangle is: 20.0\n"
          ]
        }
      ]
    },
    {
      "cell_type": "code",
      "source": [
        "# 06_square_number\n",
        "\n",
        "num = float(input(\"Type a number to see its square: \"))\n",
        "\n",
        "# Multiply in user numbers\n",
        "\n",
        "square = num * num\n",
        "\n",
        "# Result\n",
        "print(f\"\\n {num} is squared to {square}\")"
      ],
      "metadata": {
        "colab": {
          "base_uri": "https://localhost:8080/"
        },
        "id": "g_xE9VbriuQ8",
        "outputId": "13a39718-339f-4081-d453-ce855f6e0417"
      },
      "execution_count": 36,
      "outputs": [
        {
          "output_type": "stream",
          "name": "stdout",
          "text": [
            "Type a number to see its square: 5\n",
            "\n",
            " 5.0 is squared to 25.0\n"
          ]
        }
      ]
    }
  ]
}